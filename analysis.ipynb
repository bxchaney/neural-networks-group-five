{
 "cells": [
  {
   "cell_type": "code",
   "execution_count": 1,
   "id": "459ee7bb",
   "metadata": {},
   "outputs": [],
   "source": [
    "import csv\n",
    "\n",
    "from models import init_multilayer_model, build_observations, online_multilayer, big_e, Observation\n"
   ]
  },
  {
   "cell_type": "code",
   "execution_count": 2,
   "id": "12bc915a",
   "metadata": {},
   "outputs": [],
   "source": [
    "# weights from module 7 assignment\n",
    "INITIAL_WEIGHTS = [\n",
    "    [  # hidden layer initial weights\n",
    "        [0.3, 0.3],\n",
    "        [0.3, 0.3],\n",
    "    ],\n",
    "    [  # output layer initial weights\n",
    "        [0.8],\n",
    "        [0.8],\n",
    "    ],\n",
    "]\n",
    "\n",
    "INITIAL_BIASES = [\n",
    "    [\n",
    "        [0, 0],\n",
    "    ],\n",
    "    [\n",
    "        [0],\n",
    "    ],\n",
    "]\n",
    "\n",
    "# each observation will be a row vector of feature values and will include the\n",
    "# expected output value. It is assumed that the last value of each list of values\n",
    "# is the output value\n",
    "INITIAL_INPUTS: list[list[float]] = [\n",
    "    [1, 1, 0.9],\n",
    "    [-1, -1, 0.05],\n",
    "]"
   ]
  },
  {
   "cell_type": "code",
   "execution_count": 3,
   "id": "534c2177",
   "metadata": {},
   "outputs": [
    {
     "name": "stdout",
     "output_type": "stream",
     "text": [
      "observation 1\n",
      "activation value: 0.6583\n",
      "Big E: 0.0292\n",
      "observation 2\n",
      "activation value: 0.3818\n",
      "Big E: 0.055\n"
     ]
    }
   ],
   "source": [
    "multilayer = init_multilayer_model(2, 2, INITIAL_WEIGHTS, INITIAL_BIASES, eta=1)\n",
    "inputs = build_observations(INITIAL_INPUTS)\n",
    "\n",
    "online_multilayer(multilayer, inputs, 15)\n",
    "# should agree with outputs for module 7 assignment\n",
    "for i, ob in enumerate(inputs):\n",
    "    print(f\"observation {i+1}\")\n",
    "    print(f\"activation value: {round(multilayer(ob.features),4)}\")\n",
    "    print(f\"Big E: {round(big_e(multilayer, ob),4)}\")"
   ]
  },
  {
   "cell_type": "code",
   "execution_count": 4,
   "id": "2f272d5d",
   "metadata": {},
   "outputs": [
    {
     "name": "stdout",
     "output_type": "stream",
     "text": [
      "observation 1\n",
      "activation value: 0.8994\n",
      "observation value: 0.9\n",
      "Big E: 0.0\n",
      "observation 2\n",
      "activation value: 0.053\n",
      "observation value: 0.05\n",
      "Big E: 0.0\n"
     ]
    }
   ],
   "source": [
    "#random weights\n",
    "multilayer = init_multilayer_model(2, 2)\n",
    "inputs = build_observations(INITIAL_INPUTS)\n",
    "\n",
    "online_multilayer(multilayer, inputs, 15000) # very large number of cycles to see convergence\n",
    "for i, ob in enumerate(inputs):\n",
    "    print(f\"observation {i+1}\")\n",
    "    print(f\"activation value: {round(multilayer(ob.features),4)}\")\n",
    "    print(f\"observation value: {ob.values[0][0]}\")\n",
    "    print(f\"Big E: {round(big_e(multilayer, ob),4)}\")"
   ]
  },
  {
   "cell_type": "code",
   "execution_count": 5,
   "id": "904f13ff-4b7b-4bb9-94ab-c1d645ab5383",
   "metadata": {},
   "outputs": [],
   "source": [
    "def read_data(filename: str) -> list[Observation]:\n",
    "    with open(filename, \"r\") as csvfile:\n",
    "        reader = csv.DictReader(csvfile)\n",
    "        return build_observations([\n",
    "            [float(row[\"Lac\"]),float(row[\"SOW\"]),float(row[\"TACA\"])] for row in reader\n",
    "        ])\n",
    "data = read_data(\"data.csv\")"
   ]
  },
  {
   "cell_type": "code",
   "execution_count": 6,
   "id": "c68b15d2-f545-4d09-8780-36c1a3975dae",
   "metadata": {},
   "outputs": [],
   "source": [
    "def test_train_split(data: list[Observation]) -> tuple[list, list]:\n",
    "    return data[0::2], data[1::2]\n",
    "\n",
    "test, train = test_train_split(data)"
   ]
  },
  {
   "cell_type": "code",
   "execution_count": 7,
   "id": "dbc31327-f2bc-4a2a-88be-2250ffe97a9c",
   "metadata": {},
   "outputs": [
    {
     "data": {
      "text/plain": [
       "[Observation(features=array([[0.9 , 0.87]]), values=array([[1.]])),\n",
       " Observation(features=array([[1.31, 0.75]]), values=array([[1.]])),\n",
       " Observation(features=array([[2.48, 1.14]]), values=array([[0.]])),\n",
       " Observation(features=array([[0.41, 1.87]]), values=array([[0.]])),\n",
       " Observation(features=array([[2.45, 0.52]]), values=array([[0.]])),\n",
       " Observation(features=array([[2.54, 2.97]]), values=array([[1.]])),\n",
       " Observation(features=array([[0.07, 0.09]]), values=array([[1.]])),\n",
       " Observation(features=array([[1.32, 1.96]]), values=array([[0.]])),\n",
       " Observation(features=array([[0.94, 0.34]]), values=array([[1.]])),\n",
       " Observation(features=array([[1.75, 2.21]]), values=array([[0.]]))]"
      ]
     },
     "execution_count": 7,
     "metadata": {},
     "output_type": "execute_result"
    }
   ],
   "source": [
    "test"
   ]
  },
  {
   "cell_type": "code",
   "execution_count": 9,
   "id": "bf7f069a-94ee-448a-a027-a80adb67e1cf",
   "metadata": {},
   "outputs": [
    {
     "name": "stdout",
     "output_type": "stream",
     "text": [
      "versus test\n",
      "observation 1\n",
      "activation value: 0.4855\n",
      "observation value: 1.0\n",
      "Big E: 0.1324\n",
      "observation 2\n",
      "activation value: 0.4838\n",
      "observation value: 1.0\n",
      "Big E: 0.1332\n",
      "observation 3\n",
      "activation value: 0.4735\n",
      "observation value: 0.0\n",
      "Big E: 0.1121\n",
      "observation 4\n",
      "activation value: 0.4781\n",
      "observation value: 0.0\n",
      "Big E: 0.1143\n",
      "observation 5\n",
      "activation value: 0.4786\n",
      "observation value: 0.0\n",
      "Big E: 0.1145\n",
      "observation 6\n",
      "activation value: 0.466\n",
      "observation value: 1.0\n",
      "Big E: 0.1426\n",
      "observation 7\n",
      "activation value: 0.5059\n",
      "observation value: 1.0\n",
      "Big E: 0.122\n",
      "observation 8\n",
      "activation value: 0.473\n",
      "observation value: 0.0\n",
      "Big E: 0.1118\n",
      "observation 9\n",
      "activation value: 0.4924\n",
      "observation value: 1.0\n",
      "Big E: 0.1288\n",
      "observation 10\n",
      "activation value: 0.4701\n",
      "observation value: 0.0\n",
      "Big E: 0.1105\n",
      "\n",
      "versus train\n",
      "observation 1\n",
      "activation value: 0.4777\n",
      "observation value: 0.0\n",
      "Big E: 0.1141\n",
      "observation 2\n",
      "activation value: 0.4712\n",
      "observation value: 0.0\n",
      "Big E: 0.111\n",
      "observation 3\n",
      "activation value: 0.4695\n",
      "observation value: 1.0\n",
      "Big E: 0.1407\n",
      "observation 4\n",
      "activation value: 0.4657\n",
      "observation value: 1.0\n",
      "Big E: 0.1428\n",
      "observation 5\n",
      "activation value: 0.4743\n",
      "observation value: 0.0\n",
      "Big E: 0.1125\n",
      "observation 6\n",
      "activation value: 0.4707\n",
      "observation value: 0.0\n",
      "Big E: 0.1108\n",
      "observation 7\n",
      "activation value: 0.4751\n",
      "observation value: 0.0\n",
      "Big E: 0.1129\n",
      "observation 8\n",
      "activation value: 0.4711\n",
      "observation value: 0.0\n",
      "Big E: 0.111\n",
      "observation 9\n",
      "activation value: 0.4932\n",
      "observation value: 1.0\n",
      "Big E: 0.1284\n",
      "observation 10\n",
      "activation value: 0.4712\n",
      "observation value: 0.0\n",
      "Big E: 0.111\n"
     ]
    }
   ],
   "source": [
    "#random weights\n",
    "multilayer = init_multilayer_model(2, 2)\n",
    "inputs = test\n",
    "\n",
    "online_multilayer(multilayer, inputs, 150) # large-ish number \n",
    "print(\"versus test\")\n",
    "for i, ob in enumerate(inputs):\n",
    "    print(f\"observation {i+1}\")\n",
    "    print(f\"activation value: {round(multilayer(ob.features),4)}\")\n",
    "    print(f\"observation value: {ob.values[0][0]}\")\n",
    "    print(f\"Big E: {round(big_e(multilayer, ob),4)}\")\n",
    "\n",
    "print()\n",
    "print(\"versus train\")\n",
    "for i, ob in enumerate(train):\n",
    "    print(f\"observation {i+1}\")\n",
    "    print(f\"activation value: {round(multilayer(ob.features),4)}\")\n",
    "    print(f\"observation value: {ob.values[0][0]}\")\n",
    "    print(f\"Big E: {round(big_e(multilayer, ob),4)}\")"
   ]
  },
  {
   "cell_type": "code",
   "execution_count": null,
   "id": "fe7f79f6-5be7-4e18-83ed-14698f9bd31d",
   "metadata": {},
   "outputs": [],
   "source": []
  }
 ],
 "metadata": {
  "kernelspec": {
   "display_name": "Python 3 (ipykernel)",
   "language": "python",
   "name": "python3"
  },
  "language_info": {
   "codemirror_mode": {
    "name": "ipython",
    "version": 3
   },
   "file_extension": ".py",
   "mimetype": "text/x-python",
   "name": "python",
   "nbconvert_exporter": "python",
   "pygments_lexer": "ipython3",
   "version": "3.11.9"
  }
 },
 "nbformat": 4,
 "nbformat_minor": 5
}
