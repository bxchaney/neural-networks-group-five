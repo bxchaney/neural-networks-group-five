{
 "cells": [
  {
   "cell_type": "code",
   "execution_count": 1,
   "id": "459ee7bb",
   "metadata": {},
   "outputs": [],
   "source": [
    "import csv\n",
    "import math\n",
    "\n",
    "from models import init_multilayer_model, build_observations, online_multilayer, big_e, Observation, init_perceptron_model, online_perceptron, predict_with_threshold\n"
   ]
  },
  {
   "cell_type": "markdown",
   "id": "297b6741",
   "metadata": {},
   "source": [
    "## MLP on HW 7"
   ]
  },
  {
   "cell_type": "code",
   "execution_count": 6,
   "id": "12bc915a",
   "metadata": {},
   "outputs": [],
   "source": [
    "# weights from module 7 assignment\n",
    "INITIAL_WEIGHTS = [\n",
    "    [  # hidden layer initial weights\n",
    "        [0.3, 0.3],\n",
    "        [0.3, 0.3],\n",
    "    ],\n",
    "    [  # output layer initial weights\n",
    "        [0.8],\n",
    "        [0.8],\n",
    "    ],\n",
    "]\n",
    "\n",
    "INITIAL_BIASES = [\n",
    "    [\n",
    "        [0, 0],\n",
    "    ],\n",
    "    [\n",
    "        [0],\n",
    "    ],\n",
    "]\n",
    "\n",
    "# each observation will be a row vector of feature values and will include the\n",
    "# expected output value. It is assumed that the last value of each list of values\n",
    "# is the output value\n",
    "INITIAL_INPUTS: list[list[float]] = [\n",
    "    [1, 1, 0.9],\n",
    "    [-1, -1, 0.05],\n",
    "]"
   ]
  },
  {
   "cell_type": "code",
   "execution_count": 7,
   "id": "534c2177",
   "metadata": {},
   "outputs": [
    {
     "name": "stdout",
     "output_type": "stream",
     "text": [
      "observation 1\n",
      "activation value: 0.6583\n",
      "Big E: 0.0292\n",
      "observation 2\n",
      "activation value: 0.3818\n",
      "Big E: 0.055\n"
     ]
    }
   ],
   "source": [
    "multilayer = init_multilayer_model(2, 2, INITIAL_WEIGHTS, INITIAL_BIASES, eta=1)\n",
    "inputs = build_observations(INITIAL_INPUTS)\n",
    "\n",
    "online_multilayer(multilayer, inputs, 15)\n",
    "# should agree with outputs for module 7 assignment\n",
    "for i, ob in enumerate(inputs):\n",
    "    print(f\"observation {i+1}\")\n",
    "    print(f\"activation value: {round(multilayer(ob.features),4)}\")\n",
    "    print(f\"Big E: {round(big_e(multilayer, ob),4)}\")"
   ]
  },
  {
   "cell_type": "code",
   "execution_count": 8,
   "id": "2f272d5d",
   "metadata": {},
   "outputs": [
    {
     "name": "stdout",
     "output_type": "stream",
     "text": [
      "observation 1\n",
      "activation value: 0.8994\n",
      "observation value: 0.9\n",
      "Big E: 0.0\n",
      "observation 2\n",
      "activation value: 0.053\n",
      "observation value: 0.05\n",
      "Big E: 0.0\n"
     ]
    }
   ],
   "source": [
    "#random weights\n",
    "multilayer = init_multilayer_model(2, 2)\n",
    "inputs = build_observations(INITIAL_INPUTS)\n",
    "\n",
    "online_multilayer(multilayer, inputs, 15000) # very large number of cycles to see convergence\n",
    "for i, ob in enumerate(inputs):\n",
    "    print(f\"observation {i+1}\")\n",
    "    print(f\"activation value: {round(multilayer(ob.features),4)}\")\n",
    "    print(f\"observation value: {ob.values[0][0]}\")\n",
    "    print(f\"Big E: {round(big_e(multilayer, ob),4)}\")"
   ]
  },
  {
   "cell_type": "markdown",
   "id": "fdb9e7a2",
   "metadata": {},
   "source": [
    "## Perceptron on HW 7"
   ]
  },
  {
   "cell_type": "code",
   "execution_count": null,
   "id": "7a877adc",
   "metadata": {},
   "outputs": [],
   "source": [
    "INITIAL_PERCEPTRON_WEIGHTS = [\n",
    "    [0.24],\n",
    "    [0.88]\n",
    "]\n",
    "INITIAL_PERCEPTRON_BIAS = [[0]]\n",
    "\n",
    "observations = build_observations([[0.8, 0.9, 0.95]])\n",
    "\n",
    "perceptron = init_perceptron_model(2, INITIAL_PERCEPTRON_WEIGHTS, INITIAL_PERCEPTRON_BIAS, eta=5.0)\n",
    "online_perceptron(perceptron, observations, 75)\n",
    "# confirm the perceptron has the same values as PA5\n",
    "assert math.isclose(perceptron.activation_value(observations[0].features)[0][0], 0.9475, abs_tol=1e-4)\n"
   ]
  },
  {
   "cell_type": "markdown",
   "id": "ba1c2198",
   "metadata": {},
   "source": [
    "## Read in Data"
   ]
  },
  {
   "cell_type": "code",
   "execution_count": 2,
   "id": "904f13ff-4b7b-4bb9-94ab-c1d645ab5383",
   "metadata": {},
   "outputs": [],
   "source": [
    "def read_data(filename: str) -> list[Observation]:\n",
    "    with open(filename, \"r\") as csvfile:\n",
    "        reader = csv.DictReader(csvfile)\n",
    "        return build_observations([\n",
    "            [float(row[\"Lac\"]),float(row[\"SOW\"]),float(row[\"TACA\"])] for row in reader\n",
    "        ])\n",
    "data = read_data(\"data.csv\")"
   ]
  },
  {
   "cell_type": "code",
   "execution_count": 3,
   "id": "c68b15d2-f545-4d09-8780-36c1a3975dae",
   "metadata": {},
   "outputs": [],
   "source": [
    "def test_train_split(data: list[Observation]) -> tuple[list, list]:\n",
    "    return data[0::2], data[1::2]\n",
    "\n",
    "train, test = test_train_split(data)"
   ]
  },
  {
   "cell_type": "code",
   "execution_count": 4,
   "id": "dbc31327-f2bc-4a2a-88be-2250ffe97a9c",
   "metadata": {},
   "outputs": [
    {
     "data": {
      "text/plain": [
       "[Observation(features=array([[1.81, 1.02]]), values=array([[0.]])),\n",
       " Observation(features=array([[2.36, 1.6 ]]), values=array([[0.]])),\n",
       " Observation(features=array([[2.17, 2.08]]), values=array([[1.]])),\n",
       " Observation(features=array([[2.85, 2.91]]), values=array([[1.]])),\n",
       " Observation(features=array([[1.05, 1.93]]), values=array([[0.]])),\n",
       " Observation(features=array([[2.32, 1.73]]), values=array([[0.]])),\n",
       " Observation(features=array([[1.86, 1.31]]), values=array([[0.]])),\n",
       " Observation(features=array([[1.45, 2.19]]), values=array([[0.]])),\n",
       " Observation(features=array([[0.28, 0.71]]), values=array([[1.]])),\n",
       " Observation(features=array([[2.49, 1.52]]), values=array([[0.]]))]"
      ]
     },
     "execution_count": 4,
     "metadata": {},
     "output_type": "execute_result"
    }
   ],
   "source": [
    "test"
   ]
  },
  {
   "cell_type": "markdown",
   "id": "ea4f9fe1",
   "metadata": {},
   "source": [
    "## MLP with Random Weights"
   ]
  },
  {
   "cell_type": "code",
   "execution_count": 19,
   "id": "bf7f069a-94ee-448a-a027-a80adb67e1cf",
   "metadata": {},
   "outputs": [
    {
     "name": "stdout",
     "output_type": "stream",
     "text": [
      "Initial Weights\n",
      "[[-0.14191693  0.56200445]\n",
      " [ 0.18957777 -0.92633349]]\n",
      "[[ 0.78474644]\n",
      " [-0.4049307 ]]\n",
      "\n",
      "Final weights\n",
      "[[-0.21692134  0.56624415]\n",
      " [ 0.06303171 -0.89556666]]\n",
      "[[ 0.83847368]\n",
      " [-0.15811262]]\n",
      "\n",
      "On Train Data\n",
      "***Total Error: 1.2496\n",
      "***Mean Error: 0.1250\n",
      "\n",
      "On Test Data\n",
      "***Total Error: 1.2213\n",
      "***Mean Error: 0.1221\n"
     ]
    }
   ],
   "source": [
    "import random\n",
    "random.seed(6056)\n",
    "\n",
    "#random weights\n",
    "multilayer = init_multilayer_model(2, 2, eta=.09)\n",
    "inputs = train\n",
    "print(\"Initial Weights\")\n",
    "for layer in multilayer.layers:\n",
    "    print(layer.weights)\n",
    "\n",
    "online_multilayer(multilayer, inputs, 30) # large-ish number\n",
    "print('\\nFinal weights')\n",
    "for layer in multilayer.layers:\n",
    "    print(layer.weights)\n",
    "\n",
    "print(\"\\nOn Train Data\")\n",
    "errors = []\n",
    "for i, ob in enumerate(inputs):\n",
    "    # print(f\"observation {i+1}\")\n",
    "    # print(f\"activation value: {round(multilayer(ob.features),4)}\")\n",
    "    # print(f\"observation value: {ob.values[0][0]}\")\n",
    "    error = big_e(multilayer, ob)\n",
    "    # print(f\"Big E: {round(error,4)}\")\n",
    "    errors.append(error)\n",
    "    \n",
    "print(f\"***Total Error: {round(sum(errors), 4)}\")\n",
    "print(f\"***Mean Error: {sum(errors)/len(errors):.4f}\")\n",
    "print()\n",
    "print(\"On Test Data\")\n",
    "errors = []\n",
    "for i, ob in enumerate(test):\n",
    "    # print(f\"observation {i+1}\")\n",
    "    # print(f\"activation value: {round(multilayer(ob.features),4)}\")\n",
    "    # print(f\"observation value: {ob.values[0][0]}\")\n",
    "    error = big_e(multilayer, ob)\n",
    "    # print(f\"Big E: {round(error,4)}\")\n",
    "    errors.append(error)\n",
    "    \n",
    "print(f\"***Total Error: {round(sum(errors), 4)}\")\n",
    "print(f\"***Mean Error: {sum(errors)/len(errors):.4f}\")\n",
    "\n"
   ]
  },
  {
   "cell_type": "markdown",
   "id": "1689919c",
   "metadata": {},
   "source": [
    "## Perceptron w/ Random Weights "
   ]
  },
  {
   "cell_type": "code",
   "execution_count": 23,
   "id": "5b5f017c-cf62-425b-b052-01ee43b34ac6",
   "metadata": {},
   "outputs": [
    {
     "name": "stdout",
     "output_type": "stream",
     "text": [
      "Initial weights and Biases\n"
     ]
    },
    {
     "data": {
      "text/plain": [
       "(array([[-0.68525497],\n",
       "        [ 0.82092256]]),\n",
       " array([[0.26418622]]))"
      ]
     },
     "execution_count": 23,
     "metadata": {},
     "output_type": "execute_result"
    }
   ],
   "source": [
    "random.seed(831)\n",
    "# new perceptron model with random weights\n",
    "perceptron = init_perceptron_model(2, eta=0.08)\n",
    "print('Initial weights and Biases')\n",
    "perceptron.weights, perceptron.bias"
   ]
  },
  {
   "cell_type": "code",
   "execution_count": 24,
   "id": "05056852-9a29-4b66-87c2-7e2dd258a2e0",
   "metadata": {},
   "outputs": [
    {
     "name": "stdout",
     "output_type": "stream",
     "text": [
      "Final weights and Biases\n"
     ]
    },
    {
     "data": {
      "text/plain": [
       "(array([[-0.64566187],\n",
       "        [ 0.16315574]]),\n",
       " array([[0.50402241]]))"
      ]
     },
     "execution_count": 24,
     "metadata": {},
     "output_type": "execute_result"
    }
   ],
   "source": [
    "# train with test data for some number of cycles\n",
    "online_perceptron(perceptron, train, 30)\n",
    "print('Final weights and Biases')\n",
    "perceptron.weights, perceptron.bias"
   ]
  },
  {
   "cell_type": "code",
   "execution_count": 25,
   "id": "9e4d0a63-e5f8-4b7a-8b44-88b62b99ad57",
   "metadata": {},
   "outputs": [
    {
     "name": "stdout",
     "output_type": "stream",
     "text": [
      "On Train Data\n",
      "***Total Error: 1.1851\n",
      "***Mean Error: 0.1185\n",
      "\n",
      "On Test Data\n",
      "***Total Error: 1.0788\n",
      "***Mean Error: 0.1079\n"
     ]
    }
   ],
   "source": [
    "\n",
    "print(\"On Train Data\")\n",
    "errors = []\n",
    "for i, ob in enumerate(inputs):\n",
    "    # print(f\"observation {i+1}\")\n",
    "    # print(f\"activation value: {round(multilayer(ob.features),4)}\")\n",
    "    # print(f\"observation value: {ob.values[0][0]}\")\n",
    "    error = big_e(perceptron, ob)\n",
    "    # print(f\"Big E: {round(error,4)}\")\n",
    "    errors.append(error)\n",
    "    \n",
    "print(f\"***Total Error: {round(sum(errors), 4)}\")\n",
    "print(f\"***Mean Error: {sum(errors)/len(errors):.4f}\")\n",
    "print()\n",
    "print(\"On Test Data\")\n",
    "errors = []\n",
    "for i, ob in enumerate(test):\n",
    "    # print(f\"observation {i+1}\")\n",
    "    # print(f\"activation value: {round(perceptron(ob.features),4)}\")\n",
    "    # print(f\"observation value: {ob.values[0][0]}\")\n",
    "    error = big_e(perceptron, ob)\n",
    "    # print(f\"Big E: {round(error,4)}\")\n",
    "    errors.append(error)\n",
    "    \n",
    "print(f\"***Total Error: {round(sum(errors), 4)}\")\n",
    "print(f\"***Mean Error: {sum(errors)/len(errors):.4f}\")"
   ]
  },
  {
   "cell_type": "markdown",
   "id": "1802be49",
   "metadata": {},
   "source": [
    "## ROC Analysis Functions"
   ]
  },
  {
   "cell_type": "code",
   "execution_count": 12,
   "id": "058d2bfe-7621-47c5-9592-87d8ded0f569",
   "metadata": {},
   "outputs": [],
   "source": [
    "def compute_roc_points(model, data: list[Observation], thresholds: list[float]) -> list[tuple[float, float]]:\n",
    "    y_true = [int(ob.values[0][0]) for ob in data]\n",
    "    y_scores = [model(ob.features) for ob in data]\n",
    "\n",
    "    roc_points = []\n",
    "    for thresh in thresholds:\n",
    "        y_preds = [int(score >=  thresh) for score in y_scores]\n",
    "\n",
    "        TP = sum((p == 1 and y == 1) for p, y in zip(y_preds, y_true))\n",
    "        TN = sum((p == 0 and y == 0) for p, y in zip(y_preds, y_true))\n",
    "        FP = sum((p == 1 and y == 0) for p, y in zip(y_preds, y_true))\n",
    "        FN = sum((p == 0 and y == 1) for p, y in zip(y_preds, y_true))\n",
    "\n",
    "        TPR = TP / (TP + FN) if (TP + FN) > 0 else 0\n",
    "        FPR = FP / (FP + TN) if (FP + TN) > 0 else 0\n",
    "\n",
    "        roc_points.append((FPR, TPR, thresh))\n",
    "\n",
    "    return sorted(roc_points, key=lambda x: x[0]) "
   ]
  },
  {
   "cell_type": "code",
   "execution_count": 13,
   "id": "e78d9ce0",
   "metadata": {},
   "outputs": [],
   "source": [
    "import matplotlib.pyplot as plt\n",
    "import numpy as np\n",
    "\n",
    "def plot_roc_with_thresholds(roc_points: list[tuple[float, float, float]]) -> None:\n",
    "    fpr, tpr, thresholds = zip(*roc_points)\n",
    "\n",
    "    plt.figure(figsize=(8, 6))\n",
    "    plt.plot(fpr, tpr, marker='o', linestyle='-', label='ROC Curve')\n",
    "    plt.xlabel(\"False Positive Rate (FPR)\")\n",
    "    plt.ylabel(\"True Positive Rate (TPR)\")\n",
    "    plt.title(\"ROC Curve with Thresholds\")\n",
    "    plt.grid(True)\n",
    "\n",
    "    # Annotate all points with threshold values\n",
    "    # for x, y, thresh in roc_points:\n",
    "    #     label = f\"{thresh:.2f}\"\n",
    "    #     plt.annotate(label, (x, y), textcoords=\"offset points\", xytext=(4, 4), ha='left', fontsize=8)\n",
    "    \n",
    "    # Find best threshold based on Youden's J statistic\n",
    "    best_point = max(roc_points, key=lambda x: x[1] - x[0])  # max(TPR - FPR)\n",
    "    best_fpr, best_tpr, best_thresh = best_point\n",
    "    label = f\"{best_thresh:.2f}\"\n",
    "    plt.annotate(label, (best_fpr, best_tpr),textcoords=\"offset points\", xytext=(4, 4), ha='left', fontsize=8)\n",
    "\n",
    "    # Highlight best point on the plot\n",
    "    plt.scatter([best_fpr], [best_tpr], color='red', zorder=5, label=f\"Best Threshold: {best_thresh:.2f}\")\n",
    "    plt.legend()\n",
    "\n",
    "\n",
    "    plt.legend()\n",
    "    plt.show()\n"
   ]
  },
  {
   "cell_type": "markdown",
   "id": "c95634a2",
   "metadata": {},
   "source": [
    "Example use of ROC plot code. Should use to generate plots once weights and biases are set for the network. "
   ]
  },
  {
   "cell_type": "code",
   "execution_count": 27,
   "id": "584babae",
   "metadata": {},
   "outputs": [
    {
     "data": {
      "image/png": "[encoded data removed]",
      "text/plain": [
       "<Figure size 800x600 with 1 Axes>"
      ]
     },
     "metadata": {},
     "output_type": "display_data"
    }
   ],
   "source": [
    "thresholds = np.linspace(0, 1, 100)\n",
    "roc_points = compute_roc_points(perceptron, train, thresholds.tolist())\n",
    "plot_roc_with_thresholds(roc_points)"
   ]
  },
  {
   "cell_type": "code",
   "execution_count": 28,
   "id": "c4b19d58",
   "metadata": {},
   "outputs": [
    {
     "data": {
      "image/png": "[encoded data removed]",
      "text/plain": [
       "<Figure size 800x600 with 1 Axes>"
      ]
     },
     "metadata": {},
     "output_type": "display_data"
    }
   ],
   "source": [
    "thresholds = np.linspace(0, 1, 100)\n",
    "roc_points = compute_roc_points(multilayer, test, thresholds.tolist())\n",
    "plot_roc_with_thresholds(roc_points)"
   ]
  },
  {
   "cell_type": "markdown",
   "id": "d614e708",
   "metadata": {},
   "source": [
    "## Auc Analysis"
   ]
  },
  {
   "cell_type": "code",
   "execution_count": 29,
   "id": "64e98b01",
   "metadata": {},
   "outputs": [
    {
     "name": "stdout",
     "output_type": "stream",
     "text": [
      "[(0, 0.3779621872887297), (0, 0.31893065657421776), (1, 0.36407982247312154), (1, 0.297061395287423), (0, 0.5351837611427315), (0, 0.32923353517086296), (0, 0.3815027576475157), (0, 0.4812896828188817), (1, 0.6080392336354566), (0, 0.29824293125758294)]\n",
      "Perceptron AUC: 0.4762\n",
      "[(0, 0.48391359849099624), (0, 0.48270397736927045), (1, 0.49018262398872875), (1, 0.4903856024470938), (0, 0.5040212348603764), (0, 0.48450576600226675), (0, 0.48609123440583574), (0, 0.5012787083901469), (1, 0.5013261215293922), (0, 0.4803637182728104)]\n",
      "MLP AUC: 0.7619\n"
     ]
    }
   ],
   "source": [
    "from sklearn.metrics import roc_auc_score\n",
    "\n",
    "y_true = [int(ob.values[0][0]) for ob in test]\n",
    "y_scores = [perceptron(ob.features) for ob in test]\n",
    "print([(x,y) for x,y in zip(y_true, y_scores)])\n",
    "\n",
    "perceptron_auc = roc_auc_score(y_true, y_scores)\n",
    "print(f\"Perceptron AUC: {perceptron_auc:.4f}\")\n",
    "\n",
    "y_true = [int(ob.values[0][0]) for ob in test]\n",
    "y_scores = [multilayer(ob.features) for ob in test]\n",
    "print([(x,y) for x,y in zip(y_true, y_scores)])\n",
    "\n",
    "mlp_auc = roc_auc_score(y_true, y_scores)\n",
    "print(f\"MLP AUC: {mlp_auc:.4f}\")\n",
    "\n"
   ]
  },
  {
   "cell_type": "code",
   "execution_count": null,
   "id": "ddf8d63c",
   "metadata": {},
   "outputs": [],
   "source": []
  },
  {
   "cell_type": "code",
   "execution_count": null,
   "id": "72dd1c4f",
   "metadata": {},
   "outputs": [],
   "source": []
  },
  {
   "cell_type": "code",
   "execution_count": null,
   "id": "e091397b",
   "metadata": {},
   "outputs": [],
   "source": []
  }
 ],
 "metadata": {
  "kernelspec": {
   "display_name": "base",
   "language": "python",
   "name": "python3"
  },
  "language_info": {
   "codemirror_mode": {
    "name": "ipython",
    "version": 3
   },
   "file_extension": ".py",
   "mimetype": "text/x-python",
   "name": "python",
   "nbconvert_exporter": "python",
   "pygments_lexer": "ipython3",
   "version": "3.12.3"
  }
 },
 "nbformat": 4,
 "nbformat_minor": 5
}
