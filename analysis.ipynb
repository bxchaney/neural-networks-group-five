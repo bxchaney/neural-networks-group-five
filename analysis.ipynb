{
 "cells": [
  {
   "cell_type": "code",
   "execution_count": 1,
   "id": "459ee7bb",
   "metadata": {},
   "outputs": [],
   "source": [
    "import csv\n",
    "import math\n",
    "\n",
    "from models import init_multilayer_model, build_observations, online_multilayer, big_e, Observation, init_perceptron_model, online_perceptron\n"
   ]
  },
  {
   "cell_type": "code",
   "execution_count": 2,
   "id": "12bc915a",
   "metadata": {},
   "outputs": [],
   "source": [
    "# weights from module 7 assignment\n",
    "INITIAL_WEIGHTS = [\n",
    "    [  # hidden layer initial weights\n",
    "        [0.3, 0.3],\n",
    "        [0.3, 0.3],\n",
    "    ],\n",
    "    [  # output layer initial weights\n",
    "        [0.8],\n",
    "        [0.8],\n",
    "    ],\n",
    "]\n",
    "\n",
    "INITIAL_BIASES = [\n",
    "    [\n",
    "        [0, 0],\n",
    "    ],\n",
    "    [\n",
    "        [0],\n",
    "    ],\n",
    "]\n",
    "\n",
    "# each observation will be a row vector of feature values and will include the\n",
    "# expected output value. It is assumed that the last value of each list of values\n",
    "# is the output value\n",
    "INITIAL_INPUTS: list[list[float]] = [\n",
    "    [1, 1, 0.9],\n",
    "    [-1, -1, 0.05],\n",
    "]"
   ]
  },
  {
   "cell_type": "code",
   "execution_count": 3,
   "id": "534c2177",
   "metadata": {},
   "outputs": [
    {
     "name": "stdout",
     "output_type": "stream",
     "text": [
      "observation 1\n",
      "activation value: 0.6583\n",
      "Big E: 0.0292\n",
      "observation 2\n",
      "activation value: 0.3818\n",
      "Big E: 0.055\n"
     ]
    }
   ],
   "source": [
    "multilayer = init_multilayer_model(2, 2, INITIAL_WEIGHTS, INITIAL_BIASES, eta=1)\n",
    "inputs = build_observations(INITIAL_INPUTS)\n",
    "\n",
    "online_multilayer(multilayer, inputs, 15)\n",
    "# should agree with outputs for module 7 assignment\n",
    "for i, ob in enumerate(inputs):\n",
    "    print(f\"observation {i+1}\")\n",
    "    print(f\"activation value: {round(multilayer(ob.features),4)}\")\n",
    "    print(f\"Big E: {round(big_e(multilayer, ob),4)}\")"
   ]
  },
  {
   "cell_type": "code",
   "execution_count": 4,
   "id": "2f272d5d",
   "metadata": {},
   "outputs": [
    {
     "name": "stdout",
     "output_type": "stream",
     "text": [
      "observation 1\n",
      "activation value: 0.8994\n",
      "observation value: 0.9\n",
      "Big E: 0.0\n",
      "observation 2\n",
      "activation value: 0.0529\n",
      "observation value: 0.05\n",
      "Big E: 0.0\n"
     ]
    }
   ],
   "source": [
    "#random weights\n",
    "multilayer = init_multilayer_model(2, 2)\n",
    "inputs = build_observations(INITIAL_INPUTS)\n",
    "\n",
    "online_multilayer(multilayer, inputs, 15000) # very large number of cycles to see convergence\n",
    "for i, ob in enumerate(inputs):\n",
    "    print(f\"observation {i+1}\")\n",
    "    print(f\"activation value: {round(multilayer(ob.features),4)}\")\n",
    "    print(f\"observation value: {ob.values[0][0]}\")\n",
    "    print(f\"Big E: {round(big_e(multilayer, ob),4)}\")"
   ]
  },
  {
   "cell_type": "code",
   "execution_count": 5,
   "id": "904f13ff-4b7b-4bb9-94ab-c1d645ab5383",
   "metadata": {},
   "outputs": [],
   "source": [
    "def read_data(filename: str) -> list[Observation]:\n",
    "    with open(filename, \"r\") as csvfile:\n",
    "        reader = csv.DictReader(csvfile)\n",
    "        return build_observations([\n",
    "            [float(row[\"Lac\"]),float(row[\"SOW\"]),float(row[\"TACA\"])] for row in reader\n",
    "        ])\n",
    "data = read_data(\"data.csv\")"
   ]
  },
  {
   "cell_type": "code",
   "execution_count": 6,
   "id": "c68b15d2-f545-4d09-8780-36c1a3975dae",
   "metadata": {},
   "outputs": [],
   "source": [
    "def test_train_split(data: list[Observation]) -> tuple[list, list]:\n",
    "    return data[0::2], data[1::2]\n",
    "\n",
    "train, test = test_train_split(data)"
   ]
  },
  {
   "cell_type": "code",
   "execution_count": 7,
   "id": "dbc31327-f2bc-4a2a-88be-2250ffe97a9c",
   "metadata": {},
   "outputs": [
    {
     "data": {
      "text/plain": [
       "[Observation(features=array([[1.81, 1.02]]), values=array([[0.]])),\n",
       " Observation(features=array([[2.36, 1.6 ]]), values=array([[0.]])),\n",
       " Observation(features=array([[2.17, 2.08]]), values=array([[1.]])),\n",
       " Observation(features=array([[2.85, 2.91]]), values=array([[1.]])),\n",
       " Observation(features=array([[1.05, 1.93]]), values=array([[0.]])),\n",
       " Observation(features=array([[2.32, 1.73]]), values=array([[0.]])),\n",
       " Observation(features=array([[1.86, 1.31]]), values=array([[0.]])),\n",
       " Observation(features=array([[1.45, 2.19]]), values=array([[0.]])),\n",
       " Observation(features=array([[0.28, 0.71]]), values=array([[1.]])),\n",
       " Observation(features=array([[2.49, 1.52]]), values=array([[0.]]))]"
      ]
     },
     "execution_count": 7,
     "metadata": {},
     "output_type": "execute_result"
    }
   ],
   "source": [
    "test"
   ]
  },
  {
   "cell_type": "code",
   "execution_count": 8,
   "id": "bf7f069a-94ee-448a-a027-a80adb67e1cf",
   "metadata": {},
   "outputs": [
    {
     "name": "stdout",
     "output_type": "stream",
     "text": [
      "versus test\n",
      "observation 1\n",
      "activation value: 0.4904\n",
      "observation value: 1.0\n",
      "Big E: 0.1299\n",
      "observation 2\n",
      "activation value: 0.4901\n",
      "observation value: 1.0\n",
      "Big E: 0.13\n",
      "observation 3\n",
      "activation value: 0.4819\n",
      "observation value: 0.0\n",
      "Big E: 0.1161\n",
      "observation 4\n",
      "activation value: 0.4822\n",
      "observation value: 0.0\n",
      "Big E: 0.1163\n",
      "observation 5\n",
      "activation value: 0.4887\n",
      "observation value: 0.0\n",
      "Big E: 0.1194\n",
      "observation 6\n",
      "activation value: 0.4712\n",
      "observation value: 1.0\n",
      "Big E: 0.1398\n",
      "observation 7\n",
      "activation value: 0.5062\n",
      "observation value: 1.0\n",
      "Big E: 0.1219\n",
      "observation 8\n",
      "activation value: 0.4787\n",
      "observation value: 0.0\n",
      "Big E: 0.1146\n",
      "observation 9\n",
      "activation value: 0.4975\n",
      "observation value: 1.0\n",
      "Big E: 0.1263\n",
      "observation 10\n",
      "activation value: 0.476\n",
      "observation value: 0.0\n",
      "Big E: 0.1133\n",
      "Total Error: 1.2275\n",
      "\n",
      "versus train\n",
      "observation 1\n",
      "activation value: 0.4852\n",
      "observation value: 0.0\n",
      "Big E: 0.1177\n",
      "observation 2\n",
      "activation value: 0.4784\n",
      "observation value: 0.0\n",
      "Big E: 0.1145\n",
      "observation 3\n",
      "activation value: 0.4758\n",
      "observation value: 1.0\n",
      "Big E: 0.1374\n",
      "observation 4\n",
      "activation value: 0.4709\n",
      "observation value: 1.0\n",
      "Big E: 0.1399\n",
      "observation 5\n",
      "activation value: 0.4797\n",
      "observation value: 0.0\n",
      "Big E: 0.115\n",
      "observation 6\n",
      "activation value: 0.4776\n",
      "observation value: 0.0\n",
      "Big E: 0.1141\n",
      "observation 7\n",
      "activation value: 0.4822\n",
      "observation value: 0.0\n",
      "Big E: 0.1163\n",
      "observation 8\n",
      "activation value: 0.4769\n",
      "observation value: 0.0\n",
      "Big E: 0.1137\n",
      "observation 9\n",
      "activation value: 0.4953\n",
      "observation value: 1.0\n",
      "Big E: 0.1274\n",
      "observation 10\n",
      "activation value: 0.4787\n",
      "observation value: 0.0\n",
      "Big E: 0.1146\n",
      "Total Error: 1.2105\n"
     ]
    }
   ],
   "source": [
    "#random weights\n",
    "multilayer = init_multilayer_model(2, 2)\n",
    "inputs = train\n",
    "\n",
    "online_multilayer(multilayer, inputs, 75) # large-ish number \n",
    "print(\"versus test\")\n",
    "errors = []\n",
    "for i, ob in enumerate(inputs):\n",
    "    print(f\"observation {i+1}\")\n",
    "    print(f\"activation value: {round(multilayer(ob.features),4)}\")\n",
    "    print(f\"observation value: {ob.values[0][0]}\")\n",
    "    error = big_e(multilayer, ob)\n",
    "    print(f\"Big E: {round(error,4)}\")\n",
    "    errors.append(error)\n",
    "    \n",
    "print(f\"Total Error: {round(sum(errors), 4)}\")\n",
    "print()\n",
    "print(\"versus train\")\n",
    "errors = []\n",
    "for i, ob in enumerate(test):\n",
    "    print(f\"observation {i+1}\")\n",
    "    print(f\"activation value: {round(multilayer(ob.features),4)}\")\n",
    "    print(f\"observation value: {ob.values[0][0]}\")\n",
    "    error = big_e(multilayer, ob)\n",
    "    print(f\"Big E: {round(error,4)}\")\n",
    "    errors.append(error)\n",
    "    \n",
    "print(f\"Total Error: {round(sum(errors), 4)}\")"
   ]
  },
  {
   "cell_type": "code",
   "execution_count": 9,
   "id": "fe7f79f6-5be7-4e18-83ed-14698f9bd31d",
   "metadata": {},
   "outputs": [],
   "source": [
    "INITIAL_PERCEPTRON_WEIGHTS = [\n",
    "    [0.24],\n",
    "    [0.88]\n",
    "]\n",
    "INITIAL_PERCEPTRON_BIAS = [[0]]\n",
    "\n",
    "observations = build_observations([[0.8, 0.9, 0.95]])\n",
    "\n",
    "perceptron = init_perceptron_model(2, INITIAL_PERCEPTRON_WEIGHTS, INITIAL_PERCEPTRON_BIAS, eta=5.0)\n",
    "online_perceptron(perceptron, observations, 75)\n",
    "# confirm the perceptron has the same values as PA5\n",
    "assert math.isclose(perceptron.activation_value(observations[0].features)[0][0], 0.9475, abs_tol=1e-4)\n"
   ]
  },
  {
   "cell_type": "code",
   "execution_count": 10,
   "id": "5b5f017c-cf62-425b-b052-01ee43b34ac6",
   "metadata": {},
   "outputs": [],
   "source": [
    "# new perceptron model with random weights\n",
    "perceptron = init_perceptron_model(2, eta=0.1)"
   ]
  },
  {
   "cell_type": "code",
   "execution_count": 11,
   "id": "05056852-9a29-4b66-87c2-7e2dd258a2e0",
   "metadata": {},
   "outputs": [],
   "source": [
    "# train with test data for some number of cycles\n",
    "online_perceptron(perceptron, train, 100)"
   ]
  },
  {
   "cell_type": "code",
   "execution_count": 12,
   "id": "9e4d0a63-e5f8-4b7a-8b44-88b62b99ad57",
   "metadata": {},
   "outputs": [
    {
     "name": "stdout",
     "output_type": "stream",
     "text": [
      "observation 1\n",
      "activation value: 0.3812\n",
      "observation value: 0.0\n",
      "Big E: 0.0727\n",
      "observation 2\n",
      "activation value: 0.2328\n",
      "observation value: 0.0\n",
      "Big E: 0.0271\n",
      "observation 3\n",
      "activation value: 0.1888\n",
      "observation value: 1.0\n",
      "Big E: 0.329\n",
      "observation 4\n",
      "activation value: 0.0818\n",
      "observation value: 1.0\n",
      "Big E: 0.4215\n",
      "observation 5\n",
      "activation value: 0.3126\n",
      "observation value: 0.0\n",
      "Big E: 0.0489\n",
      "observation 6\n",
      "activation value: 0.2193\n",
      "observation value: 0.0\n",
      "Big E: 0.024\n",
      "observation 7\n",
      "activation value: 0.326\n",
      "observation value: 0.0\n",
      "Big E: 0.0531\n",
      "observation 8\n",
      "activation value: 0.2347\n",
      "observation value: 0.0\n",
      "Big E: 0.0275\n",
      "observation 9\n",
      "activation value: 0.6246\n",
      "observation value: 1.0\n",
      "Big E: 0.0705\n",
      "observation 10\n",
      "activation value: 0.232\n",
      "observation value: 0.0\n",
      "Big E: 0.0269\n",
      "Total Error: 1.1012\n"
     ]
    }
   ],
   "source": [
    "errors = []\n",
    "for i, ob in enumerate(test):\n",
    "    print(f\"observation {i+1}\")\n",
    "    print(f\"activation value: {round(perceptron(ob.features),4)}\")\n",
    "    print(f\"observation value: {ob.values[0][0]}\")\n",
    "    error = big_e(perceptron, ob)\n",
    "    print(f\"Big E: {round(error,4)}\")\n",
    "    errors.append(error)\n",
    "    \n",
    "print(f\"Total Error: {round(sum(errors), 4)}\")"
   ]
  },
  {
   "cell_type": "code",
   "execution_count": 13,
   "id": "6a73f021-9569-4679-8ad4-0ea6af5e4fef",
   "metadata": {},
   "outputs": [
    {
     "data": {
      "text/plain": [
       "(array([[-0.4974916 ],\n",
       "        [-0.74922952]]),\n",
       " array([[1.18030754]]))"
      ]
     },
     "execution_count": 13,
     "metadata": {},
     "output_type": "execute_result"
    }
   ],
   "source": [
    "perceptron.weights, perceptron.bias"
   ]
  },
  {
   "cell_type": "code",
   "execution_count": null,
   "id": "058d2bfe-7621-47c5-9592-87d8ded0f569",
   "metadata": {},
   "outputs": [],
   "source": []
  }
 ],
 "metadata": {
  "kernelspec": {
   "display_name": "Python 3 (ipykernel)",
   "language": "python",
   "name": "python3"
  },
  "language_info": {
   "codemirror_mode": {
    "name": "ipython",
    "version": 3
   },
   "file_extension": ".py",
   "mimetype": "text/x-python",
   "name": "python",
   "nbconvert_exporter": "python",
   "pygments_lexer": "ipython3",
   "version": "3.11.9"
  }
 },
 "nbformat": 4,
 "nbformat_minor": 5
}
